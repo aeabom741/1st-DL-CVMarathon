{
 "cells": [
  {
   "cell_type": "code",
   "execution_count": 3,
   "metadata": {},
   "outputs": [],
   "source": [
    "import cv2\n",
    "import numpy as np\n",
    "img = cv2.imread(\"img/lena.png\")"
   ]
  },
  {
   "cell_type": "code",
   "execution_count": 18,
   "metadata": {},
   "outputs": [],
   "source": [
    "gray = cv2.cvtColor(img ,cv2.COLOR_BGR2GRAY)\n",
    "\n",
    "img_x_sobel = cv2.Sobel(gray,cv2.CV_16S , dx = 1 , dy = 0 , ksize = 3)\n",
    "img_x_sobel = cv2.convertScaleAbs(img_x_sobel)\n",
    "img_sobel_x_uint8 = cv2.Sobel(gray,cv2.CV_8U, dx = 1 , dy = 0 , ksize = 3)\n",
    "\n",
    "imgs = np.hstack((gray,img_x,img_sobel_x_uint8))\n",
    "\n",
    "cv2.imshow(\"imgs\" , imgs)\n",
    "cv2.waitKey(0)\n",
    "cv2.destroyAllWindows()"
   ]
  },
  {
   "cell_type": "code",
   "execution_count": 23,
   "metadata": {},
   "outputs": [],
   "source": [
    "gray = cv2.cvtColor(img,cv2.COLOR_BGR2GRAY)\n",
    "\n",
    "img_x_sobel = cv2.Sobel(gray , cv2.CV_16S, dx = 1 , dy = 0 , ksize = 3)\n",
    "img_x_socle = cv2.convertScaleAbs(img_x_sobel)\n",
    "\n",
    "img_x_sobel2 = cv2.Sobel(gray , cv2.CV_16S, dx = 2 , dy = 0 , ksize = 3)\n",
    "img_x_sobel2 = cv2.convertScaleAbs(img_x_sobel2)\n",
    "\n",
    "imgs = np.hstack((img_x_socle , img_x_sobel2))\n",
    "\n",
    "cv2.imshow(\"imgs\" , imgs)\n",
    "cv2.waitKey(0)\n",
    "cv2.destroyAllWindows()"
   ]
  },
  {
   "cell_type": "code",
   "execution_count": null,
   "metadata": {},
   "outputs": [],
   "source": []
  }
 ],
 "metadata": {
  "kernelspec": {
   "display_name": "Python 3",
   "language": "python",
   "name": "python3"
  },
  "language_info": {
   "codemirror_mode": {
    "name": "ipython",
    "version": 3
   },
   "file_extension": ".py",
   "mimetype": "text/x-python",
   "name": "python",
   "nbconvert_exporter": "python",
   "pygments_lexer": "ipython3",
   "version": "3.7.1"
  }
 },
 "nbformat": 4,
 "nbformat_minor": 2
}
