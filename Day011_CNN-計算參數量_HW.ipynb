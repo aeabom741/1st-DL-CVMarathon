{
 "cells": [
  {
   "cell_type": "code",
   "execution_count": 3,
   "metadata": {},
   "outputs": [],
   "source": [
    "from keras.models import Sequential\n",
    "from keras.models import Model\n",
    "from keras.layers import Convolution2D\n",
    "from keras.layers import Input,Dense"
   ]
  },
  {
   "cell_type": "code",
   "execution_count": 16,
   "metadata": {},
   "outputs": [
    {
     "name": "stdout",
     "output_type": "stream",
     "text": [
      "_________________________________________________________________\n",
      "Layer (type)                 Output Shape              Param #   \n",
      "=================================================================\n",
      "conv2d_12 (Conv2D)           (None, 26, 26, 32)        320       \n",
      "=================================================================\n",
      "Total params: 320\n",
      "Trainable params: 320\n",
      "Non-trainable params: 0\n",
      "_________________________________________________________________\n",
      "None\n",
      "_________________________________________________________________\n",
      "Layer (type)                 Output Shape              Param #   \n",
      "=================================================================\n",
      "input_5 (InputLayer)         (None, 784)               0         \n",
      "_________________________________________________________________\n",
      "dense_2 (Dense)              (None, 288)               226080    \n",
      "=================================================================\n",
      "Total params: 226,080\n",
      "Trainable params: 226,080\n",
      "Non-trainable params: 0\n",
      "_________________________________________________________________\n",
      "None\n"
     ]
    }
   ],
   "source": [
    "##輸入照片尺寸==28*28*1\n",
    "##都用一層，288個神經元\n",
    "\n",
    "##建造一個一層的CNN層\n",
    "classifier = Sequential()\n",
    "#Kernel size 3*3，用32張，輸入大小28*28*1\n",
    "classifier.add(Convolution2D(filters = 32 , kernel_size = (3,3),input_shape=(28,28,1)))\n",
    "\n",
    "# Params = (Kernel_size_H * Kernel_size_W * input_channels + 1) * Kernel numbers = (3 * 3 * 1 + 1) * 32 = 320\n",
    "##看看model結構\n",
    "print(classifier.summary())\n",
    "##建造一個一層的FC層\n",
    "classifier = Sequential()\n",
    "##輸入為28*28*1攤平==784\n",
    "inputs = Input(shape=(784,))\n",
    "# 輸入尺寸為28*28*1\n",
    "##CNN中用了(3*3*1)*32個神經元，我們這邊也用相同神經元數量\n",
    "x = Dense(units=288)(inputs)#使用288個神經元\n",
    "model = Model(inputs=inputs , outputs = x)\n",
    "\n",
    "print(model.summary())"
   ]
  },
  {
   "cell_type": "code",
   "execution_count": 19,
   "metadata": {},
   "outputs": [
    {
     "name": "stdout",
     "output_type": "stream",
     "text": [
      "_________________________________________________________________\n",
      "Layer (type)                 Output Shape              Param #   \n",
      "=================================================================\n",
      "conv2d_15 (Conv2D)           (None, 24, 24, 16)        416       \n",
      "=================================================================\n",
      "Total params: 416\n",
      "Trainable params: 416\n",
      "Non-trainable params: 0\n",
      "_________________________________________________________________\n",
      "None\n",
      "_________________________________________________________________\n",
      "Layer (type)                 Output Shape              Param #   \n",
      "=================================================================\n",
      "input_6 (InputLayer)         (None, 784)               0         \n",
      "_________________________________________________________________\n",
      "dense_3 (Dense)              (None, 255)               200175    \n",
      "=================================================================\n",
      "Total params: 200,175\n",
      "Trainable params: 200,175\n",
      "Non-trainable params: 0\n",
      "_________________________________________________________________\n",
      "None\n"
     ]
    }
   ],
   "source": [
    "classifier = Sequential()\n",
    "classifier.add(Convolution2D(filters = 16 , kernel_size = (5,5),input_shape=(28,28,1)))\n",
    "print(classifier.summary())\n",
    "\n",
    "\n",
    "classifier = Sequential()\n",
    "inputs = Input(shape=(784,))\n",
    "x = Dense(units=255)(inputs)\n",
    "model = Model(inputs=inputs , outputs = x)\n",
    "print(model.summary())"
   ]
  },
  {
   "cell_type": "code",
   "execution_count": null,
   "metadata": {},
   "outputs": [],
   "source": []
  }
 ],
 "metadata": {
  "kernelspec": {
   "display_name": "Python 3",
   "language": "python",
   "name": "python3"
  },
  "language_info": {
   "codemirror_mode": {
    "name": "ipython",
    "version": 3
   },
   "file_extension": ".py",
   "mimetype": "text/x-python",
   "name": "python",
   "nbconvert_exporter": "python",
   "pygments_lexer": "ipython3",
   "version": "3.7.1"
  }
 },
 "nbformat": 4,
 "nbformat_minor": 2
}
