{
 "cells": [
  {
   "cell_type": "code",
   "execution_count": 26,
   "metadata": {},
   "outputs": [],
   "source": [
    "import numpy as np\n",
    "import cv2\n",
    "\n",
    "img = cv2.imread('img\\lena.png')\n",
    "\n",
    "img_HSV = cv2.cvtColor(img,cv2.COLOR_BGR2HSV)\n",
    "change_percentage = 0.2\n",
    "\n",
    "#在HSV SPACE 減少飽和度\n",
    "img_HSV_down = img_HSV.astype('float32')\n",
    "img_HSV_down[...,-1] = img_HSV_down[...,-1] / 255 - change_percentage\n",
    "img_HSV_down[img_HSV_down[...,-1] < 0] = 0\n",
    "img_HSV_down[...,-1] = img_HSV_down[...,-1] * 255 \n",
    "img_HSV_down = img_HSV_down.astype('uint8')\n",
    "#HSV SPACE 增加飽和度\n",
    "img_HSV_up = img_HSV.astype('float32')\n",
    "img_HSV_up[...,-1] = img_HSV_up[...,-1] / 255 + change_percentage\n",
    "img_HSV_up[img_HSV_up[...,-1] < 1] = 1\n",
    "img_HSV_up[... , -1] = img_HSV_up[...,-1] * 255\n",
    "img_HSV_up = img_HSV_up.astype('uint8')\n",
    "\n",
    "#顏色轉換回來\n",
    "img_HSV_down = cv2.cvtColor(img_HSV_down,cv2.COLOR_HSV2BGR)\n",
    "img_HSV_up = cv2.cvtColor(img_HSV_up,cv2.COLOR_HSV2BGR)\n",
    "\n",
    "imgs = np.hstack((img_HSV_down,img_HSV_up))\n",
    "\n",
    "cv2.imshow('imgs',imgs)\n",
    "\n",
    "cv2.waitKey(0)\n",
    "cv2.destroyAllWindows()"
   ]
  },
  {
   "cell_type": "code",
   "execution_count": 25,
   "metadata": {},
   "outputs": [],
   "source": [
    "import numpy as np\n",
    "import cv2\n",
    "img = cv2.imread('img\\lena.png',cv2.IMREAD_COLOR)\n",
    "\n",
    "img_B_equal = cv2.equalizeHist(img[:,:,0])\n",
    "img_G_equal = cv2.equalizeHist(img[:,:,1])\n",
    "img_R_equal = cv2.equalizeHist(img[:,:,2])\n",
    "img_BRG_equal = np.hstack((img_B_equal,img_G_equal,img_R_equal))\n",
    "\n",
    "img_HSV = cv2.cvtColor(img,cv2.COLOR_BGR2HSV)\n",
    "img_HSV_equal = cv2.equalizeHist(img_HSV[:,:,1])\n",
    "\n",
    "imgs = np.hstack((img_B_equal,img_G_equal,img_R_equal))\n",
    "cv2.imshow('imgs_RGB',imgs)\n",
    "cv2.imshow('img_HSV_equal',img_HSV_equal)\n",
    "\n",
    "cv2.waitKey(0)\n",
    "cv2.destroyAllWindows()"
   ]
  },
  {
   "cell_type": "code",
   "execution_count": 21,
   "metadata": {},
   "outputs": [
    {
     "ename": "TypeError",
     "evalue": "mat data type = 17 is not supported",
     "output_type": "error",
     "traceback": [
      "\u001b[1;31m---------------------------------------------------------------------------\u001b[0m",
      "\u001b[1;31mTypeError\u001b[0m                                 Traceback (most recent call last)",
      "\u001b[1;32m<ipython-input-21-69923b482fc1>\u001b[0m in \u001b[0;36m<module>\u001b[1;34m\u001b[0m\n\u001b[0;32m     12\u001b[0m \u001b[0mimg_contrast_light\u001b[0m \u001b[1;33m=\u001b[0m \u001b[0mnp\u001b[0m\u001b[1;33m.\u001b[0m\u001b[0mhstack\u001b[0m\u001b[1;33m(\u001b[0m\u001b[1;33m(\u001b[0m\u001b[0madd_contrast\u001b[0m\u001b[1;33m,\u001b[0m\u001b[0madd_lightness\u001b[0m\u001b[1;33m)\u001b[0m\u001b[1;33m)\u001b[0m\u001b[1;33m\u001b[0m\u001b[1;33m\u001b[0m\u001b[0m\n\u001b[0;32m     13\u001b[0m \u001b[1;33m\u001b[0m\u001b[0m\n\u001b[1;32m---> 14\u001b[1;33m \u001b[0mcv2\u001b[0m\u001b[1;33m.\u001b[0m\u001b[0mimshow\u001b[0m\u001b[1;33m(\u001b[0m\u001b[1;34m'img_contrast_light'\u001b[0m\u001b[1;33m,\u001b[0m\u001b[0mimg_contrast_light\u001b[0m\u001b[1;33m)\u001b[0m\u001b[1;33m\u001b[0m\u001b[1;33m\u001b[0m\u001b[0m\n\u001b[0m\u001b[0;32m     15\u001b[0m \u001b[1;33m\u001b[0m\u001b[0m\n\u001b[0;32m     16\u001b[0m \u001b[0mcv2\u001b[0m\u001b[1;33m.\u001b[0m\u001b[0mwaitKey\u001b[0m\u001b[1;33m(\u001b[0m\u001b[1;36m0\u001b[0m\u001b[1;33m)\u001b[0m\u001b[1;33m\u001b[0m\u001b[1;33m\u001b[0m\u001b[0m\n",
      "\u001b[1;31mTypeError\u001b[0m: mat data type = 17 is not supported"
     ]
    }
   ],
   "source": [
    "#alpha 控制對比\n",
    "#beta 控制亮度\n",
    "\n",
    "import numpy as np\n",
    "import cv2\n",
    "\n",
    "img = cv2.imread('img\\lena.jpg')\n",
    "\n",
    "add_contrast = cv2.convertScaleAbs(img , alpha = 2.0 , beta = 0)\n",
    "add_lightness = cv2.convertScaleAbs(img , alpha = 1.0 , beta = 50)\n",
    "\n",
    "img_contrast_light = np.hstack((add_contrast,add_lightness))\n",
    "\n",
    "cv2.imshow('img_contrast_light',img_contrast_light)\n",
    "\n",
    "cv2.waitKey(0)\n",
    "cv2.destroyAllWindows()\n"
   ]
  },
  {
   "cell_type": "code",
   "execution_count": null,
   "metadata": {},
   "outputs": [],
   "source": []
  }
 ],
 "metadata": {
  "kernelspec": {
   "display_name": "Python 3",
   "language": "python",
   "name": "python3"
  },
  "language_info": {
   "codemirror_mode": {
    "name": "ipython",
    "version": 3
   },
   "file_extension": ".py",
   "mimetype": "text/x-python",
   "name": "python",
   "nbconvert_exporter": "python",
   "pygments_lexer": "ipython3",
   "version": "3.7.1"
  }
 },
 "nbformat": 4,
 "nbformat_minor": 2
}
