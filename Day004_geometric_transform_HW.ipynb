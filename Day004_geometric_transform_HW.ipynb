{
 "cells": [
  {
   "cell_type": "code",
   "execution_count": 11,
   "metadata": {},
   "outputs": [],
   "source": [
    "import cv2\n",
    "import time\n",
    "import numpy as np\n",
    "\n",
    "img_path = 'img/lena.png'\n",
    "img = cv2.imread(img_path)"
   ]
  },
  {
   "cell_type": "code",
   "execution_count": 14,
   "metadata": {},
   "outputs": [],
   "source": [
    "# 水平翻轉 (horizontal)\n",
    "img_hflip = img[:,::-1,:]\n",
    "\n",
    "# 垂直翻轉 (vertical)\n",
    "img_vflip = img[::-1,:,:]\n",
    "\n",
    "# 水平 + 垂直翻轉\n",
    "img_hvflip = img [::-1,::-1,:]\n",
    "\n",
    "\n",
    "hflip = np.hstack((img,img_hflip))\n",
    "vflip = np.hstack((img_vflip,img_hvflip))\n",
    "img_flip = np.vstack((hflip,vflip))\n",
    "\n",
    "cv2.imshow('flip',img_flip)\n",
    "\n",
    "cv2.waitKey(0)\n",
    "cv2.destroyAllWindows()"
   ]
  },
  {
   "cell_type": "code",
   "execution_count": 15,
   "metadata": {},
   "outputs": [
    {
     "name": "stdout",
     "output_type": "stream",
     "text": [
      "INTER_NEAREST zoom cost 0.0\n",
      "INTER_LINEAR zoom cost 0.0009989738464355469\n"
     ]
    }
   ],
   "source": [
    "# 將圖片縮小成原本的 20%\n",
    "img_test = cv2.resize(img, None , fx = 0.2 , fy = 0.2)\n",
    "# 將圖片放大為\"小圖片\"的 8 倍大 = 原圖的 1.6 倍大\n",
    "fx, fy = 8, 8\n",
    "\n",
    "# 鄰近差值 scale + 計算花費時間\n",
    "start_time = time.time()\n",
    "img_area_scala = cv2.resize(img_test, None , fx = fx , fy = fy , interpolation = cv2.INTER_NEAREST)\n",
    "print('INTER_NEAREST zoom cost {}'.format(time.time() - start_time))\n",
    "\n",
    "# 雙立方差補 scale + 計算花費時間\n",
    "start_time = time.time()\n",
    "img_cube_scala = cv2.resize(img_test,None , fx = fx , fy = fy , interpolation = cv2.INTER_LINEAR)\n",
    "print('INTER_LINEAR zoom cost {}'.format(time.time() - start_time))\n",
    "\n",
    "img = np.hstack((img_area_scala,img_cube_scala))\n",
    "cv2.imshow('imgs',img)\n",
    "\n",
    "cv2.waitKey(0)\n",
    "cv2.destroyAllWindows()"
   ]
  },
  {
   "cell_type": "code",
   "execution_count": 13,
   "metadata": {},
   "outputs": [],
   "source": [
    "# 設定 translation transformation matrix\n",
    "# x 平移 50 pixel; y 平移 100 pixel\n",
    "\n",
    "M = np.array([[1,0,50],\n",
    "             [0,1,100]], dtype = np.float32)\n",
    "shift_img = cv2.warpAffine(img,M,(img.shape[1],img.shape[0]))\n",
    "img_shift = np.hstack((img,shift_img))\n",
    "\n",
    "cv2.imshow('imgs',img_shift)\n",
    "cv2.waitKey(0)\n",
    "cv2.destroyAllWindows()"
   ]
  },
  {
   "cell_type": "code",
   "execution_count": null,
   "metadata": {},
   "outputs": [],
   "source": []
  }
 ],
 "metadata": {
  "kernelspec": {
   "display_name": "Python 3",
   "language": "python",
   "name": "python3"
  },
  "language_info": {
   "codemirror_mode": {
    "name": "ipython",
    "version": 3
   },
   "file_extension": ".py",
   "mimetype": "text/x-python",
   "name": "python",
   "nbconvert_exporter": "python",
   "pygments_lexer": "ipython3",
   "version": "3.7.1"
  }
 },
 "nbformat": 4,
 "nbformat_minor": 2
}
