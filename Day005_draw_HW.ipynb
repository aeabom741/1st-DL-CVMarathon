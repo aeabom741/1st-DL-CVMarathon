{
 "cells": [
  {
   "cell_type": "code",
   "execution_count": 2,
   "metadata": {},
   "outputs": [],
   "source": [
    "import cv2\n",
    "import numpy as np\n",
    "img = cv2.imread(\"img\\lena.png\")"
   ]
  },
  {
   "cell_type": "code",
   "execution_count": 3,
   "metadata": {},
   "outputs": [],
   "source": [
    "img_rec = img.copy()\n",
    "cv2.rectangle(img_rec,(60,40),(420,510),(0,0,255),3)\n",
    "\n",
    "cv2.imshow(\"rec\",img_rec)\n",
    "cv2.waitKey(0)\n",
    "cv2.destroyAllWindows()"
   ]
  },
  {
   "cell_type": "code",
   "execution_count": 4,
   "metadata": {},
   "outputs": [],
   "source": [
    "img_line = img.copy()\n",
    "cv2.line(img_line,(60,40),(420,510),(0,0,255),3)\n",
    "\n",
    "cv2.imshow(\"line\",img_line)\n",
    "cv2.waitKey(0)\n",
    "cv2.destroyAllWindows()"
   ]
  },
  {
   "cell_type": "code",
   "execution_count": 5,
   "metadata": {},
   "outputs": [],
   "source": [
    "img_text = img.copy()\n",
    "cv2.putText(img_text,'(60,40)',(60,40), 0 , 1, (0,0,255),2)\n",
    "\n",
    "cv2.imshow(\"img_text\",img_text)\n",
    "cv2.waitKey(0)\n",
    "cv2.destroyAllWindows()"
   ]
  },
  {
   "cell_type": "code",
   "execution_count": 12,
   "metadata": {},
   "outputs": [
    {
     "name": "stdout",
     "output_type": "stream",
     "text": [
      "origin point1=[452, 40], origin point2=[92, 510]\n",
      "resize point1=(226, 20), resize point2=(46, 255)\n"
     ]
    }
   ],
   "source": [
    "img_hw = img.copy()\n",
    "\n",
    "point1 = [60,40]\n",
    "point2 = [420,510]\n",
    "\n",
    "img_hw = cv2.cvtColor(img_hw,cv2.COLOR_BGR2HSV)\n",
    "img_hw[...,-1] = cv2.equalizeHist(img_hw[...,-1])\n",
    "img_hw = cv2.cvtColor(img_hw,cv2.COLOR_HSV2BGR)\n",
    "\n",
    "\n",
    "#水平鏡像\n",
    "h,w = img_hw.shape[:2]\n",
    "img_hw = img_hw[:,::-1,:]\n",
    "\n",
    "point1[0] = w - point1[0]\n",
    "point2[0] = w - point2[0] \n",
    "#縮放0.5\n",
    "\n",
    "fx = 0.5\n",
    "fy = 0.5\n",
    "resize_col = int(img_hw.shape[1] * fx)\n",
    "resize_row = int(img_hw.shape[0] * fy)\n",
    "\n",
    "# 建構 scale matrix\n",
    "M_scale = np.array([[fx,0,0],[0,fy,0]],dtype = np.float32)\n",
    "img_hw = cv2.warpAffine(img_hw,M_scale,(resize_col,resize_row))\n",
    "\n",
    "# 把左上跟右下轉為矩陣型式\n",
    "bbox = np.array((point1, point2), dtype=np.float32)\n",
    "#print('M_scale.shape={}, bbox.shape={}'.format(M_scale.shape, bbox.shape))\n",
    "\n",
    "# 做矩陣乘法可以使用 `np.dot`, 為了做矩陣乘法, M_scale 需要做轉置之後才能相乘\n",
    "homo_coor_result = np.dot(M_scale.T, bbox)\n",
    "homo_coor_result = homo_coor_result.astype('uint8')\n",
    "#print(homo_coor_result)\n",
    "scale_point1 = tuple(homo_coor_result[0])\n",
    "scale_point2 = tuple(homo_coor_result[1])\n",
    "print('origin point1={}, origin point2={}'.format(point1, point2))\n",
    "print('resize point1={}, resize point2={}'.format(scale_point1, scale_point2))\n",
    "\n",
    "# 畫圖\n",
    "cv2.rectangle(img_hw, scale_point1, scale_point2, (0, 0, 255), 3)\n",
    "\n",
    "cv2.imshow(\"img\",img_hw)\n",
    "cv2.waitKey(0)\n",
    "cv2.destroyAllWindows()"
   ]
  },
  {
   "cell_type": "code",
   "execution_count": null,
   "metadata": {},
   "outputs": [],
   "source": []
  }
 ],
 "metadata": {
  "kernelspec": {
   "display_name": "Python 3",
   "language": "python",
   "name": "python3"
  },
  "language_info": {
   "codemirror_mode": {
    "name": "ipython",
    "version": 3
   },
   "file_extension": ".py",
   "mimetype": "text/x-python",
   "name": "python",
   "nbconvert_exporter": "python",
   "pygments_lexer": "ipython3",
   "version": "3.7.1"
  }
 },
 "nbformat": 4,
 "nbformat_minor": 2
}
