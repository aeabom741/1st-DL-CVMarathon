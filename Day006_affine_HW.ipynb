{
 "cells": [
  {
   "cell_type": "code",
   "execution_count": 1,
   "metadata": {},
   "outputs": [],
   "source": [
    "import cv2\n",
    "import time\n",
    "import numpy as np\n",
    "img = cv2.imread(\"img\\lena.png\")"
   ]
  },
  {
   "cell_type": "code",
   "execution_count": 6,
   "metadata": {},
   "outputs": [
    {
     "name": "stdout",
     "output_type": "stream",
     "text": [
      "Rotation Matrix\n",
      "[[  0.35355339   0.35355339  74.98066402]\n",
      " [ -0.35355339   0.35355339 256.        ]]\n",
      "\n",
      "M_translate\n",
      "[[  1.   0. 100.]\n",
      " [  0.   1. -50.]]\n"
     ]
    }
   ],
   "source": [
    "rows,cols = img.shape[:2]\n",
    "\n",
    "#GetRotationMatrix2D(center angle scale)\n",
    "M_rotation = cv2.getRotationMatrix2D((cols//2,rows//2),45,0.5)\n",
    "print(\"Rotation Matrix\")\n",
    "print(M_rotation)\n",
    "print()\n",
    "\n",
    "#GetRotationMatrix\n",
    "M_translate = np.array([[1,0,100],\n",
    "                       [0,1,-50]],dtype = np.float32)\n",
    "print(\"M_translate\")\n",
    "print(M_translate)\n",
    "#旋轉\n",
    "img_rotation = cv2.warpAffine(img,M_rotation,(cols,rows))\n",
    "#平移\n",
    "img_translate = cv2.warpAffine(img,M_translate,(cols,rows))\n",
    "\n",
    "imgs = np.hstack((img_rotation,img_translate))\n",
    "\n",
    "cv2.imshow(\"imgs\",imgs)\n",
    "cv2.waitKey(0)\n",
    "cv2.destroyAllWindows()"
   ]
  },
  {
   "cell_type": "code",
   "execution_count": null,
   "metadata": {},
   "outputs": [],
   "source": [
    "rows , cols = img.shape[:2]\n",
    "\n",
    "pt1 = np.array([[50,50], [300,100], [200,300]], dtype=np.float32)\n",
    "pt2 = np.array([[80,80], [330,150], [300,300]], dtype=np.float32)\n",
    "\n",
    "M_affine = cv2.getAffineTransform(pt1,pt2)\n",
    "img_affine = cv2.warpAffine(img,M_affine,(cols,rows))\n",
    "# 在圖片上標記點\n",
    "\n",
    "img_copy = img.copy()\n",
    "for idx, pts in enumerate(pt1):\n",
    "    pts = tuple(map(int, pts))\n",
    "    cv2.circle(img_copy, pts, 3, (0, 255, 0), -1)\n",
    "    cv2.putText(img_copy, str(idx), (pts[0]+5, pts[1]+5), cv2.FONT_HERSHEY_COMPLEX, 1, (0, 255, 0), 1)\n",
    "\n",
    "for idx, pts in enumerate(pt2):\n",
    "    pts = tuple(map(int, pts))\n",
    "    cv2.circle(img_affine, pts, 3, (0, 255, 0), -1)\n",
    "    cv2.putText(img_affine, str(idx), (pts[0]+5, pts[1]+5), cv2.FONT_HERSHEY_COMPLEX, 1, (0, 255, 0), 1)\n",
    "    \n",
    "img_show_affine = np.hstack((img_copy, img_affine))\n",
    "\n",
    "cv2.imshow(\"imgs\",img_show_affine)\n",
    "cv2.waitKey(0)\n",
    "cv2.destroyAllWindows()"
   ]
  },
  {
   "cell_type": "code",
   "execution_count": null,
   "metadata": {},
   "outputs": [],
   "source": []
  }
 ],
 "metadata": {
  "kernelspec": {
   "display_name": "Python 3",
   "language": "python",
   "name": "python3"
  },
  "language_info": {
   "codemirror_mode": {
    "name": "ipython",
    "version": 3
   },
   "file_extension": ".py",
   "mimetype": "text/x-python",
   "name": "python",
   "nbconvert_exporter": "python",
   "pygments_lexer": "ipython3",
   "version": "3.7.1"
  }
 },
 "nbformat": 4,
 "nbformat_minor": 2
}
