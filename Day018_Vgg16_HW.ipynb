{
 "cells": [
  {
   "cell_type": "code",
   "execution_count": 26,
   "metadata": {},
   "outputs": [],
   "source": [
    "import numpy as np\n",
    "from keras.models import Model\n",
    "from keras.layers import Dense\n",
    "from keras.layers import Convolution2D\n",
    "from keras.layers import Input\n",
    "from keras.layers import Flatten\n",
    "from keras.layers import MaxPooling2D\n",
    "from keras.layers import GlobalMaxPooling2D\n",
    "from keras.layers import GlobalAveragePooling2D\n",
    "from keras import backend as K"
   ]
  },
  {
   "cell_type": "code",
   "execution_count": 27,
   "metadata": {},
   "outputs": [],
   "source": [
    "def VGG16(include_top = True,input_tensor = None,Input_shape = (224,224,1),\n",
    "         pooling = 'max',classes = 1000):\n",
    "    \n",
    "    img_input = Input(shape=input_shape)\n",
    "    \n",
    "    #block1\n",
    "    x = Convolution2D(64, kernel_size = (3,3),activation = 'relu' ,padding = 'same',name = 'block1_conv1')(img_input)\n",
    "    x = Convolution2D(64, kernel_size = (3,3),activation = 'relu' ,padding = 'same',name = 'block1_conv2')(x)\n",
    "    x = MaxPooling2D((2,2),strides = (2,2),name = 'block1_pool1')(x)\n",
    "    \n",
    "    #block2\n",
    "    x = Convolution2D(128, kernel_size = (3,3),activation = 'relu',padding = 'same',name = 'block2_conv1')(x)\n",
    "    x = Convolution2D(128, kernel_size = (3,3),activation = 'relu',padding = 'same',name = 'block2_conv2')(x)\n",
    "    x = MaxPooling2D((2,2),strides = (2,2),name = 'block2_pool')(x)\n",
    "    \n",
    "    #block3\n",
    "    x = Convolution2D(256,kernel_size = (3,3),activation = 'relu',padding = 'same',name = 'block3_conv1')(x)\n",
    "    x = Convolution2D(256,kernel_size = (3,3),activation = 'relu',padding = 'same',name = 'block3_conv2')(x)\n",
    "    x = Convolution2D(256,kernel_size = (3,3),activation = 'relu',padding = 'same',name = 'block3_conv3')(x)\n",
    "    x = MaxPooling2D((2,2),strides = (2,2),name='block3_pool')(x)\n",
    "    \n",
    "    #block4\n",
    "    x = Convolution2D(512,kernel_size = (3,3),activation ='relu',padding = 'same',name = 'block4_conv1')(x)\n",
    "    x = Convolution2D(512,kernel_size = (3,3),activation ='relu',padding = 'same',name = 'block4_conv2')(x)\n",
    "    x = Convolution2D(512,kernel_size = (3,3),activation ='relu',padding = 'same',name = 'block4_conv3')(x)\n",
    "    x = MaxPooling2D((2,2),strides=(2,2),name = 'block4_pool')(x)\n",
    "    \n",
    "    #block5\n",
    "    x = Convolution2D(512,kernel_size = (3,3),activation = 'relu',padding = 'same',name = 'block5_conv1')(x)\n",
    "    x = Convolution2D(512,kernel_size = (3,3),activation = 'relu',padding = 'same',name = 'block5_conv2')(x)\n",
    "    x = Convolution2D(512,kernel_size = (3,3),activation = 'relu',padding = 'same',name = 'block5_conv3')(x)\n",
    "    x = MaxPooling2D((2,2),stride(2,2),name = 'block5_pool')(x)\n",
    "    \n",
    "    if include_top:\n",
    "        x = Flatten(name = 'Flatten')(x)\n",
    "        x = Dense(4096,activation = 'relu',name = 'fc1')(x)\n",
    "        x = Dense(4096,activation = 'relu',name = 'fc2')(x)\n",
    "        x = Dense(classes,activation = 'softmax',name = 'prediction')(x)\n",
    "    else:\n",
    "        if pooling == 'avg':\n",
    "            x = GlobalAveragePooling2D()(x)\n",
    "        elif pooling == 'max':\n",
    "            x = GlobalMaxPooling2D()(x)\n",
    "            \n",
    "    inputs = img_input\n",
    "            \n",
    "    model = Model(inputs,x,name = 'VGG16')\n",
    "    return model"
   ]
  },
  {
   "cell_type": "code",
   "execution_count": 28,
   "metadata": {},
   "outputs": [
    {
     "ename": "NameError",
     "evalue": "name 'input_shape' is not defined",
     "output_type": "error",
     "traceback": [
      "\u001b[1;31m---------------------------------------------------------------------------\u001b[0m",
      "\u001b[1;31mNameError\u001b[0m                                 Traceback (most recent call last)",
      "\u001b[1;32m<ipython-input-28-ec6741143bee>\u001b[0m in \u001b[0;36m<module>\u001b[1;34m\u001b[0m\n\u001b[1;32m----> 1\u001b[1;33m \u001b[0mmodel\u001b[0m \u001b[1;33m=\u001b[0m \u001b[0mVGG16\u001b[0m\u001b[1;33m(\u001b[0m\u001b[0minclude_top\u001b[0m \u001b[1;33m=\u001b[0m \u001b[1;32mFalse\u001b[0m\u001b[1;33m)\u001b[0m\u001b[1;33m\u001b[0m\u001b[1;33m\u001b[0m\u001b[0m\n\u001b[0m",
      "\u001b[1;32m<ipython-input-27-2f5db7ff6f17>\u001b[0m in \u001b[0;36mVGG16\u001b[1;34m(include_top, input_tensor, Input_shape, pooling, classes)\u001b[0m\n\u001b[0;32m      2\u001b[0m          pooling = 'max',classes = 1000):\n\u001b[0;32m      3\u001b[0m \u001b[1;33m\u001b[0m\u001b[0m\n\u001b[1;32m----> 4\u001b[1;33m     \u001b[0mimg_input\u001b[0m \u001b[1;33m=\u001b[0m \u001b[0mInput\u001b[0m\u001b[1;33m(\u001b[0m\u001b[0mshape\u001b[0m\u001b[1;33m=\u001b[0m\u001b[0minput_shape\u001b[0m\u001b[1;33m)\u001b[0m\u001b[1;33m\u001b[0m\u001b[1;33m\u001b[0m\u001b[0m\n\u001b[0m\u001b[0;32m      5\u001b[0m \u001b[1;33m\u001b[0m\u001b[0m\n\u001b[0;32m      6\u001b[0m     \u001b[1;31m#block1\u001b[0m\u001b[1;33m\u001b[0m\u001b[1;33m\u001b[0m\u001b[1;33m\u001b[0m\u001b[0m\n",
      "\u001b[1;31mNameError\u001b[0m: name 'input_shape' is not defined"
     ]
    }
   ],
   "source": [
    "model = VGG16(include_top = False)"
   ]
  },
  {
   "cell_type": "code",
   "execution_count": 29,
   "metadata": {},
   "outputs": [
    {
     "ename": "NameError",
     "evalue": "name 'model' is not defined",
     "output_type": "error",
     "traceback": [
      "\u001b[1;31m---------------------------------------------------------------------------\u001b[0m",
      "\u001b[1;31mNameError\u001b[0m                                 Traceback (most recent call last)",
      "\u001b[1;32m<ipython-input-29-5f15418b3570>\u001b[0m in \u001b[0;36m<module>\u001b[1;34m\u001b[0m\n\u001b[1;32m----> 1\u001b[1;33m \u001b[0mmodel\u001b[0m\u001b[1;33m.\u001b[0m\u001b[0msummary\u001b[0m\u001b[1;33m(\u001b[0m\u001b[1;33m)\u001b[0m\u001b[1;33m\u001b[0m\u001b[1;33m\u001b[0m\u001b[0m\n\u001b[0m",
      "\u001b[1;31mNameError\u001b[0m: name 'model' is not defined"
     ]
    }
   ],
   "source": [
    "model.summary()"
   ]
  },
  {
   "cell_type": "code",
   "execution_count": null,
   "metadata": {},
   "outputs": [],
   "source": []
  }
 ],
 "metadata": {
  "kernelspec": {
   "display_name": "Python 3",
   "language": "python",
   "name": "python3"
  },
  "language_info": {
   "codemirror_mode": {
    "name": "ipython",
    "version": 3
   },
   "file_extension": ".py",
   "mimetype": "text/x-python",
   "name": "python",
   "nbconvert_exporter": "python",
   "pygments_lexer": "ipython3",
   "version": "3.7.1"
  }
 },
 "nbformat": 4,
 "nbformat_minor": 2
}
